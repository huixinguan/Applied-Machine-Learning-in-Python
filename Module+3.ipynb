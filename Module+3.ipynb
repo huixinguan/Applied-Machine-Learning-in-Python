{
 "cells": [
  {
   "cell_type": "markdown",
   "metadata": {},
   "source": [
    "---\n",
    "\n",
    "_You are currently looking at **version 1.0** of this notebook. To download notebooks and datafiles, as well as get help on Jupyter notebooks in the Coursera platform, visit the [Jupyter Notebook FAQ](https://www.coursera.org/learn/python-machine-learning/resources/bANLa) course resource._\n",
    "\n",
    "---"
   ]
  },
  {
   "cell_type": "markdown",
   "metadata": {
    "collapsed": true
   },
   "source": [
    "# Applied Machine Learning: Module 3 (Evaluation)"
   ]
  },
  {
   "cell_type": "markdown",
   "metadata": {},
   "source": [
    "## Evaluation for Classification"
   ]
  },
  {
   "cell_type": "markdown",
   "metadata": {},
   "source": [
    "### Preamble"
   ]
  },
  {
   "cell_type": "code",
   "execution_count": 2,
   "metadata": {
    "collapsed": false
   },
   "outputs": [
    {
     "name": "stdout",
     "output_type": "stream",
     "text": [
      "0 178\n",
      "1 182\n",
      "2 177\n",
      "3 183\n",
      "4 181\n",
      "5 182\n",
      "6 181\n",
      "7 179\n",
      "8 174\n",
      "9 180\n"
     ]
    }
   ],
   "source": [
    "%matplotlib notebook\n",
    "import numpy as np\n",
    "import pandas as pd\n",
    "import seaborn as sns\n",
    "import matplotlib.pyplot as plt\n",
    "from sklearn.model_selection import train_test_split\n",
    "from sklearn.datasets import load_digits\n",
    "\n",
    "dataset = load_digits()\n",
    "X, y = dataset.data, dataset.target\n",
    "\n",
    "for class_name, class_count in zip(dataset.target_names, np.bincount(dataset.target)):\n",
    "    print(class_name,class_count)"
   ]
  },
  {
   "cell_type": "code",
   "execution_count": 3,
   "metadata": {
    "collapsed": false
   },
   "outputs": [
    {
     "name": "stdout",
     "output_type": "stream",
     "text": [
      "0 178\n",
      "1 182\n",
      "2 177\n",
      "3 183\n",
      "4 181\n",
      "5 182\n",
      "6 181\n",
      "7 179\n",
      "8 174\n",
      "9 180\n"
     ]
    }
   ],
   "source": [
    "for class_name, class_count in zip(dataset.target, np.bincount(dataset.target)):\n",
    "    print(class_name,class_count)"
   ]
  },
  {
   "cell_type": "code",
   "execution_count": 4,
   "metadata": {
    "collapsed": false
   },
   "outputs": [
    {
     "name": "stdout",
     "output_type": "stream",
     "text": [
      "Original labels:\t [1 2 3 4 5 6 7 8 9 0 1 2 3 4 5 6 7 8 9 0 1 2 3 4 5 6 7 8 9]\n",
      "New binary labels:\t [1 0 0 0 0 0 0 0 0 0 1 0 0 0 0 0 0 0 0 0 1 0 0 0 0 0 0 0 0]\n"
     ]
    }
   ],
   "source": [
    "# Creating a dataset with imbalanced binary classes:  \n",
    "# Negative class (0) is 'not digit 1' \n",
    "# Positive class (1) is 'digit 1'\n",
    "y_binary_imbalanced = y.copy()\n",
    "y_binary_imbalanced[y_binary_imbalanced != 1] = 0\n",
    "\n",
    "print('Original labels:\\t', y[1:30])\n",
    "print('New binary labels:\\t', y_binary_imbalanced[1:30])"
   ]
  },
  {
   "cell_type": "code",
   "execution_count": 5,
   "metadata": {
    "collapsed": false,
    "scrolled": true
   },
   "outputs": [
    {
     "data": {
      "text/plain": [
       "array([1615,  182])"
      ]
     },
     "execution_count": 5,
     "metadata": {},
     "output_type": "execute_result"
    }
   ],
   "source": [
    "np.bincount(y_binary_imbalanced)    # Negative class (0) is the most frequent class"
   ]
  },
  {
   "cell_type": "code",
   "execution_count": 6,
   "metadata": {
    "collapsed": false
   },
   "outputs": [
    {
     "data": {
      "text/plain": [
       "0.90888888888888886"
      ]
     },
     "execution_count": 6,
     "metadata": {},
     "output_type": "execute_result"
    }
   ],
   "source": [
    "X_train, X_test, y_train, y_test = train_test_split(X, y_binary_imbalanced, random_state=0)\n",
    "\n",
    "# Accuracy of Support Vector Machine classifier\n",
    "from sklearn.svm import SVC\n",
    "\n",
    "svm = SVC(kernel='rbf', C=1).fit(X_train, y_train)\n",
    "svm.score(X_test, y_test)"
   ]
  },
  {
   "cell_type": "markdown",
   "metadata": {},
   "source": [
    "\n",
    "\n",
    "### Dummy Classifiers"
   ]
  },
  {
   "cell_type": "markdown",
   "metadata": {
    "collapsed": true
   },
   "source": [
    "DummyClassifier is a classifier that makes predictions using simple rules, which can be useful as a baseline for comparison against actual classifiers, especially with imbalanced classes."
   ]
  },
  {
   "cell_type": "code",
   "execution_count": 7,
   "metadata": {
    "collapsed": false
   },
   "outputs": [
    {
     "data": {
      "text/plain": [
       "array([0, 0, 0, 0, 0, 0, 0, 0, 0, 0, 0, 0, 0, 0, 0, 0, 0, 0, 0, 0, 0, 0, 0,\n",
       "       0, 0, 0, 0, 0, 0, 0, 0, 0, 0, 0, 0, 0, 0, 0, 0, 0, 0, 0, 0, 0, 0, 0,\n",
       "       0, 0, 0, 0, 0, 0, 0, 0, 0, 0, 0, 0, 0, 0, 0, 0, 0, 0, 0, 0, 0, 0, 0,\n",
       "       0, 0, 0, 0, 0, 0, 0, 0, 0, 0, 0, 0, 0, 0, 0, 0, 0, 0, 0, 0, 0, 0, 0,\n",
       "       0, 0, 0, 0, 0, 0, 0, 0, 0, 0, 0, 0, 0, 0, 0, 0, 0, 0, 0, 0, 0, 0, 0,\n",
       "       0, 0, 0, 0, 0, 0, 0, 0, 0, 0, 0, 0, 0, 0, 0, 0, 0, 0, 0, 0, 0, 0, 0,\n",
       "       0, 0, 0, 0, 0, 0, 0, 0, 0, 0, 0, 0, 0, 0, 0, 0, 0, 0, 0, 0, 0, 0, 0,\n",
       "       0, 0, 0, 0, 0, 0, 0, 0, 0, 0, 0, 0, 0, 0, 0, 0, 0, 0, 0, 0, 0, 0, 0,\n",
       "       0, 0, 0, 0, 0, 0, 0, 0, 0, 0, 0, 0, 0, 0, 0, 0, 0, 0, 0, 0, 0, 0, 0,\n",
       "       0, 0, 0, 0, 0, 0, 0, 0, 0, 0, 0, 0, 0, 0, 0, 0, 0, 0, 0, 0, 0, 0, 0,\n",
       "       0, 0, 0, 0, 0, 0, 0, 0, 0, 0, 0, 0, 0, 0, 0, 0, 0, 0, 0, 0, 0, 0, 0,\n",
       "       0, 0, 0, 0, 0, 0, 0, 0, 0, 0, 0, 0, 0, 0, 0, 0, 0, 0, 0, 0, 0, 0, 0,\n",
       "       0, 0, 0, 0, 0, 0, 0, 0, 0, 0, 0, 0, 0, 0, 0, 0, 0, 0, 0, 0, 0, 0, 0,\n",
       "       0, 0, 0, 0, 0, 0, 0, 0, 0, 0, 0, 0, 0, 0, 0, 0, 0, 0, 0, 0, 0, 0, 0,\n",
       "       0, 0, 0, 0, 0, 0, 0, 0, 0, 0, 0, 0, 0, 0, 0, 0, 0, 0, 0, 0, 0, 0, 0,\n",
       "       0, 0, 0, 0, 0, 0, 0, 0, 0, 0, 0, 0, 0, 0, 0, 0, 0, 0, 0, 0, 0, 0, 0,\n",
       "       0, 0, 0, 0, 0, 0, 0, 0, 0, 0, 0, 0, 0, 0, 0, 0, 0, 0, 0, 0, 0, 0, 0,\n",
       "       0, 0, 0, 0, 0, 0, 0, 0, 0, 0, 0, 0, 0, 0, 0, 0, 0, 0, 0, 0, 0, 0, 0,\n",
       "       0, 0, 0, 0, 0, 0, 0, 0, 0, 0, 0, 0, 0, 0, 0, 0, 0, 0, 0, 0, 0, 0, 0,\n",
       "       0, 0, 0, 0, 0, 0, 0, 0, 0, 0, 0, 0, 0])"
      ]
     },
     "execution_count": 7,
     "metadata": {},
     "output_type": "execute_result"
    }
   ],
   "source": [
    "from sklearn.dummy import DummyClassifier\n",
    "\n",
    "# Negative class (0) is most frequent\n",
    "dummy_majority = DummyClassifier(strategy = 'most_frequent').fit(X_train, y_train)\n",
    "# Therefore the dummy 'most_frequent' classifier always predicts class 0\n",
    "y_dummy_predictions = dummy_majority.predict(X_test)\n",
    "\n",
    "y_dummy_predictions"
   ]
  },
  {
   "cell_type": "code",
   "execution_count": 8,
   "metadata": {
    "collapsed": false
   },
   "outputs": [
    {
     "data": {
      "text/plain": [
       "0.9044444444444445"
      ]
     },
     "execution_count": 8,
     "metadata": {},
     "output_type": "execute_result"
    }
   ],
   "source": [
    "dummy_majority.score(X_test, y_test)"
   ]
  },
  {
   "cell_type": "code",
   "execution_count": 9,
   "metadata": {
    "collapsed": false
   },
   "outputs": [
    {
     "data": {
      "text/plain": [
       "0.97777777777777775"
      ]
     },
     "execution_count": 9,
     "metadata": {},
     "output_type": "execute_result"
    }
   ],
   "source": [
    "svm = SVC(kernel='linear', C=1).fit(X_train, y_train)\n",
    "svm.score(X_test, y_test)"
   ]
  },
  {
   "cell_type": "markdown",
   "metadata": {},
   "source": [
    "### Confusion matrices"
   ]
  },
  {
   "cell_type": "markdown",
   "metadata": {},
   "source": [
    "#### Binary (two-class) confusion matrix"
   ]
  },
  {
   "cell_type": "code",
   "execution_count": 10,
   "metadata": {
    "collapsed": false
   },
   "outputs": [
    {
     "name": "stdout",
     "output_type": "stream",
     "text": [
      "Most frequent class (dummy classifier)\n",
      " [[407   0]\n",
      " [ 43   0]]\n"
     ]
    }
   ],
   "source": [
    "from sklearn.metrics import confusion_matrix\n",
    "\n",
    "# Negative class (0) is most frequent\n",
    "dummy_majority = DummyClassifier(strategy = 'most_frequent').fit(X_train, y_train)\n",
    "y_majority_predicted = dummy_majority.predict(X_test)\n",
    "confusion = confusion_matrix(y_test, y_majority_predicted)\n",
    "\n",
    "print('Most frequent class (dummy classifier)\\n', confusion)"
   ]
  },
  {
   "cell_type": "code",
   "execution_count": 11,
   "metadata": {
    "collapsed": false
   },
   "outputs": [
    {
     "name": "stdout",
     "output_type": "stream",
     "text": [
      "Random class-proportional prediction (dummy classifier)\n",
      " [[357  50]\n",
      " [ 37   6]]\n"
     ]
    }
   ],
   "source": [
    "# produces random predictions w/ same class proportion as training set\n",
    "dummy_classprop = DummyClassifier(strategy='stratified').fit(X_train, y_train)\n",
    "y_classprop_predicted = dummy_classprop.predict(X_test)\n",
    "confusion = confusion_matrix(y_test, y_classprop_predicted)\n",
    "\n",
    "print('Random class-proportional prediction (dummy classifier)\\n', confusion)"
   ]
  },
  {
   "cell_type": "code",
   "execution_count": 12,
   "metadata": {
    "collapsed": false,
    "scrolled": true
   },
   "outputs": [
    {
     "name": "stdout",
     "output_type": "stream",
     "text": [
      "Support vector machine classifier (linear kernel, C=1)\n",
      " [[402   5]\n",
      " [  5  38]]\n"
     ]
    }
   ],
   "source": [
    "svm = SVC(kernel='linear', C=1).fit(X_train, y_train)\n",
    "svm_predicted = svm.predict(X_test)\n",
    "confusion = confusion_matrix(y_test, svm_predicted)\n",
    "\n",
    "print('Support vector machine classifier (linear kernel, C=1)\\n', confusion)"
   ]
  },
  {
   "cell_type": "code",
   "execution_count": 13,
   "metadata": {
    "collapsed": false
   },
   "outputs": [
    {
     "name": "stdout",
     "output_type": "stream",
     "text": [
      "Logistic regression classifier (default settings)\n",
      " [[401   6]\n",
      " [  6  37]]\n"
     ]
    }
   ],
   "source": [
    "from sklearn.linear_model import LogisticRegression\n",
    "\n",
    "lr = LogisticRegression().fit(X_train, y_train)\n",
    "lr_predicted = lr.predict(X_test)\n",
    "confusion = confusion_matrix(y_test, lr_predicted)\n",
    "\n",
    "print('Logistic regression classifier (default settings)\\n', confusion)"
   ]
  },
  {
   "cell_type": "code",
   "execution_count": 14,
   "metadata": {
    "collapsed": false
   },
   "outputs": [
    {
     "name": "stdout",
     "output_type": "stream",
     "text": [
      "Decision tree classifier (max_depth = 2)\n",
      " [[400   7]\n",
      " [ 17  26]]\n"
     ]
    }
   ],
   "source": [
    "from sklearn.tree import DecisionTreeClassifier\n",
    "\n",
    "dt = DecisionTreeClassifier(max_depth=2).fit(X_train, y_train)\n",
    "tree_predicted = dt.predict(X_test)\n",
    "confusion = confusion_matrix(y_test, tree_predicted)\n",
    "\n",
    "print('Decision tree classifier (max_depth = 2)\\n', confusion)"
   ]
  },
  {
   "cell_type": "markdown",
   "metadata": {},
   "source": [
    "### Evaluation metrics for binary classification"
   ]
  },
  {
   "cell_type": "code",
   "execution_count": 15,
   "metadata": {
    "collapsed": false
   },
   "outputs": [
    {
     "name": "stdout",
     "output_type": "stream",
     "text": [
      "Accuracy: 0.95\n",
      "Precision: 0.79\n",
      "Recall: 0.60\n",
      "F1: 0.68\n"
     ]
    }
   ],
   "source": [
    "from sklearn.metrics import accuracy_score, precision_score, recall_score, f1_score\n",
    "# Accuracy = TP + TN / (TP + TN + FP + FN)\n",
    "# Precision = TP / (TP + FP)\n",
    "# Recall = TP / (TP + FN)  Also known as sensitivity, or True Positive Rate\n",
    "# F1 = 2 * Precision * Recall / (Precision + Recall) \n",
    "print('Accuracy: {:.2f}'.format(accuracy_score(y_test, tree_predicted)))\n",
    "print('Precision: {:.2f}'.format(precision_score(y_test, tree_predicted)))\n",
    "print('Recall: {:.2f}'.format(recall_score(y_test, tree_predicted)))\n",
    "print('F1: {:.2f}'.format(f1_score(y_test, tree_predicted)))"
   ]
  },
  {
   "cell_type": "code",
   "execution_count": 16,
   "metadata": {
    "collapsed": false
   },
   "outputs": [
    {
     "name": "stdout",
     "output_type": "stream",
     "text": [
      "             precision    recall  f1-score   support\n",
      "\n",
      "      not 1       0.96      0.98      0.97       407\n",
      "          1       0.79      0.60      0.68        43\n",
      "\n",
      "avg / total       0.94      0.95      0.94       450\n",
      "\n"
     ]
    }
   ],
   "source": [
    "# Combined report with all above metrics\n",
    "from sklearn.metrics import classification_report\n",
    "\n",
    "print(classification_report(y_test, tree_predicted, target_names=['not 1', '1']))"
   ]
  },
  {
   "cell_type": "code",
   "execution_count": 17,
   "metadata": {
    "collapsed": false,
    "scrolled": false
   },
   "outputs": [
    {
     "name": "stdout",
     "output_type": "stream",
     "text": [
      "Random class-proportional (dummy)\n",
      "              precision    recall  f1-score   support\n",
      "\n",
      "      not 1       0.91      0.88      0.89       407\n",
      "          1       0.11      0.14      0.12        43\n",
      "\n",
      "avg / total       0.83      0.81      0.82       450\n",
      "\n",
      "SVM\n",
      "              precision    recall  f1-score   support\n",
      "\n",
      "      not 1       0.99      0.99      0.99       407\n",
      "          1       0.88      0.88      0.88        43\n",
      "\n",
      "avg / total       0.98      0.98      0.98       450\n",
      "\n",
      "Logistic regression\n",
      "              precision    recall  f1-score   support\n",
      "\n",
      "      not 1       0.99      0.99      0.99       407\n",
      "          1       0.86      0.86      0.86        43\n",
      "\n",
      "avg / total       0.97      0.97      0.97       450\n",
      "\n",
      "Decision tree\n",
      "              precision    recall  f1-score   support\n",
      "\n",
      "      not 1       0.96      0.98      0.97       407\n",
      "          1       0.79      0.60      0.68        43\n",
      "\n",
      "avg / total       0.94      0.95      0.94       450\n",
      "\n"
     ]
    }
   ],
   "source": [
    "print('Random class-proportional (dummy)\\n', \n",
    "      classification_report(y_test, y_classprop_predicted, target_names=['not 1', '1']))\n",
    "print('SVM\\n', \n",
    "      classification_report(y_test, svm_predicted, target_names = ['not 1', '1']))\n",
    "print('Logistic regression\\n', \n",
    "      classification_report(y_test, lr_predicted, target_names = ['not 1', '1']))\n",
    "print('Decision tree\\n', \n",
    "      classification_report(y_test, tree_predicted, target_names = ['not 1', '1']))"
   ]
  },
  {
   "cell_type": "markdown",
   "metadata": {},
   "source": [
    "### Decision functions"
   ]
  },
  {
   "cell_type": "code",
   "execution_count": 18,
   "metadata": {
    "collapsed": false
   },
   "outputs": [
    {
     "data": {
      "text/plain": [
       "[(0, -23.172292973469549),\n",
       " (0, -13.542576515500066),\n",
       " (0, -21.717588760007864),\n",
       " (0, -18.903065133316442),\n",
       " (0, -19.733169947138638),\n",
       " (0, -9.7463217496747667),\n",
       " (1, 5.2327155658831117),\n",
       " (0, -19.308012306288916),\n",
       " (0, -25.099330209728528),\n",
       " (0, -21.824312362996),\n",
       " (0, -24.143782750720494),\n",
       " (0, -19.578811099762504),\n",
       " (0, -22.568371393280199),\n",
       " (0, -10.822590225240777),\n",
       " (0, -11.907918741521936),\n",
       " (0, -10.977026853802803),\n",
       " (1, 11.206811164226373),\n",
       " (0, -27.644157619807473),\n",
       " (0, -12.857692102545419),\n",
       " (0, -25.848149140240199)]"
      ]
     },
     "execution_count": 18,
     "metadata": {},
     "output_type": "execute_result"
    }
   ],
   "source": [
    "X_train, X_test, y_train, y_test = train_test_split(X, y_binary_imbalanced, random_state=0)\n",
    "y_scores_lr = lr.fit(X_train, y_train).decision_function(X_test)\n",
    "y_score_list = list(zip(y_test[0:20], y_scores_lr[0:20]))\n",
    "\n",
    "# show the decision_function scores for first 20 instances\n",
    "y_score_list"
   ]
  },
  {
   "cell_type": "code",
   "execution_count": 19,
   "metadata": {
    "collapsed": false
   },
   "outputs": [
    {
     "data": {
      "text/plain": [
       "[(0, 8.6377579220606466e-11),\n",
       " (0, 1.3138118599563736e-06),\n",
       " (0, 3.6997386039099659e-10),\n",
       " (0, 6.1730972504865241e-09),\n",
       " (0, 2.6914925394345074e-09),\n",
       " (0, 5.8506057771143608e-05),\n",
       " (1, 0.99468934644404694),\n",
       " (0, 4.1175302368500096e-09),\n",
       " (0, 1.2574750894253029e-11),\n",
       " (0, 3.3252290754668869e-10),\n",
       " (0, 3.269552979937297e-11),\n",
       " (0, 3.1407283576084996e-09),\n",
       " (0, 1.5800864117150149e-10),\n",
       " (0, 1.9943442430612578e-05),\n",
       " (0, 6.7368003023859777e-06),\n",
       " (0, 1.7089540581641637e-05),\n",
       " (1, 0.9999864188091131),\n",
       " (0, 9.8694940340196163e-13),\n",
       " (0, 2.6059983600823614e-06),\n",
       " (0, 5.9469113009063784e-12)]"
      ]
     },
     "execution_count": 19,
     "metadata": {},
     "output_type": "execute_result"
    }
   ],
   "source": [
    "X_train, X_test, y_train, y_test = train_test_split(X, y_binary_imbalanced, random_state=0)\n",
    "y_proba_lr = lr.fit(X_train, y_train).predict_proba(X_test)\n",
    "y_proba_list = list(zip(y_test[0:20], y_proba_lr[0:20,1]))\n",
    "\n",
    "# show the probability of positive class for first 20 instances\n",
    "y_proba_list"
   ]
  },
  {
   "cell_type": "markdown",
   "metadata": {},
   "source": [
    "### Precision-recall curves"
   ]
  },
  {
   "cell_type": "code",
   "execution_count": 20,
   "metadata": {
    "collapsed": false
   },
   "outputs": [
    {
     "data": {
      "application/javascript": [
       "/* Put everything inside the global mpl namespace */\n",
       "window.mpl = {};\n",
       "\n",
       "\n",
       "mpl.get_websocket_type = function() {\n",
       "    if (typeof(WebSocket) !== 'undefined') {\n",
       "        return WebSocket;\n",
       "    } else if (typeof(MozWebSocket) !== 'undefined') {\n",
       "        return MozWebSocket;\n",
       "    } else {\n",
       "        alert('Your browser does not have WebSocket support.' +\n",
       "              'Please try Chrome, Safari or Firefox ≥ 6. ' +\n",
       "              'Firefox 4 and 5 are also supported but you ' +\n",
       "              'have to enable WebSockets in about:config.');\n",
       "    };\n",
       "}\n",
       "\n",
       "mpl.figure = function(figure_id, websocket, ondownload, parent_element) {\n",
       "    this.id = figure_id;\n",
       "\n",
       "    this.ws = websocket;\n",
       "\n",
       "    this.supports_binary = (this.ws.binaryType != undefined);\n",
       "\n",
       "    if (!this.supports_binary) {\n",
       "        var warnings = document.getElementById(\"mpl-warnings\");\n",
       "        if (warnings) {\n",
       "            warnings.style.display = 'block';\n",
       "            warnings.textContent = (\n",
       "                \"This browser does not support binary websocket messages. \" +\n",
       "                    \"Performance may be slow.\");\n",
       "        }\n",
       "    }\n",
       "\n",
       "    this.imageObj = new Image();\n",
       "\n",
       "    this.context = undefined;\n",
       "    this.message = undefined;\n",
       "    this.canvas = undefined;\n",
       "    this.rubberband_canvas = undefined;\n",
       "    this.rubberband_context = undefined;\n",
       "    this.format_dropdown = undefined;\n",
       "\n",
       "    this.image_mode = 'full';\n",
       "\n",
       "    this.root = $('<div/>');\n",
       "    this._root_extra_style(this.root)\n",
       "    this.root.attr('style', 'display: inline-block');\n",
       "\n",
       "    $(parent_element).append(this.root);\n",
       "\n",
       "    this._init_header(this);\n",
       "    this._init_canvas(this);\n",
       "    this._init_toolbar(this);\n",
       "\n",
       "    var fig = this;\n",
       "\n",
       "    this.waiting = false;\n",
       "\n",
       "    this.ws.onopen =  function () {\n",
       "            fig.send_message(\"supports_binary\", {value: fig.supports_binary});\n",
       "            fig.send_message(\"send_image_mode\", {});\n",
       "            if (mpl.ratio != 1) {\n",
       "                fig.send_message(\"set_dpi_ratio\", {'dpi_ratio': mpl.ratio});\n",
       "            }\n",
       "            fig.send_message(\"refresh\", {});\n",
       "        }\n",
       "\n",
       "    this.imageObj.onload = function() {\n",
       "            if (fig.image_mode == 'full') {\n",
       "                // Full images could contain transparency (where diff images\n",
       "                // almost always do), so we need to clear the canvas so that\n",
       "                // there is no ghosting.\n",
       "                fig.context.clearRect(0, 0, fig.canvas.width, fig.canvas.height);\n",
       "            }\n",
       "            fig.context.drawImage(fig.imageObj, 0, 0);\n",
       "        };\n",
       "\n",
       "    this.imageObj.onunload = function() {\n",
       "        this.ws.close();\n",
       "    }\n",
       "\n",
       "    this.ws.onmessage = this._make_on_message_function(this);\n",
       "\n",
       "    this.ondownload = ondownload;\n",
       "}\n",
       "\n",
       "mpl.figure.prototype._init_header = function() {\n",
       "    var titlebar = $(\n",
       "        '<div class=\"ui-dialog-titlebar ui-widget-header ui-corner-all ' +\n",
       "        'ui-helper-clearfix\"/>');\n",
       "    var titletext = $(\n",
       "        '<div class=\"ui-dialog-title\" style=\"width: 100%; ' +\n",
       "        'text-align: center; padding: 3px;\"/>');\n",
       "    titlebar.append(titletext)\n",
       "    this.root.append(titlebar);\n",
       "    this.header = titletext[0];\n",
       "}\n",
       "\n",
       "\n",
       "\n",
       "mpl.figure.prototype._canvas_extra_style = function(canvas_div) {\n",
       "\n",
       "}\n",
       "\n",
       "\n",
       "mpl.figure.prototype._root_extra_style = function(canvas_div) {\n",
       "\n",
       "}\n",
       "\n",
       "mpl.figure.prototype._init_canvas = function() {\n",
       "    var fig = this;\n",
       "\n",
       "    var canvas_div = $('<div/>');\n",
       "\n",
       "    canvas_div.attr('style', 'position: relative; clear: both; outline: 0');\n",
       "\n",
       "    function canvas_keyboard_event(event) {\n",
       "        return fig.key_event(event, event['data']);\n",
       "    }\n",
       "\n",
       "    canvas_div.keydown('key_press', canvas_keyboard_event);\n",
       "    canvas_div.keyup('key_release', canvas_keyboard_event);\n",
       "    this.canvas_div = canvas_div\n",
       "    this._canvas_extra_style(canvas_div)\n",
       "    this.root.append(canvas_div);\n",
       "\n",
       "    var canvas = $('<canvas/>');\n",
       "    canvas.addClass('mpl-canvas');\n",
       "    canvas.attr('style', \"left: 0; top: 0; z-index: 0; outline: 0\")\n",
       "\n",
       "    this.canvas = canvas[0];\n",
       "    this.context = canvas[0].getContext(\"2d\");\n",
       "\n",
       "    var backingStore = this.context.backingStorePixelRatio ||\n",
       "\tthis.context.webkitBackingStorePixelRatio ||\n",
       "\tthis.context.mozBackingStorePixelRatio ||\n",
       "\tthis.context.msBackingStorePixelRatio ||\n",
       "\tthis.context.oBackingStorePixelRatio ||\n",
       "\tthis.context.backingStorePixelRatio || 1;\n",
       "\n",
       "    mpl.ratio = (window.devicePixelRatio || 1) / backingStore;\n",
       "\n",
       "    var rubberband = $('<canvas/>');\n",
       "    rubberband.attr('style', \"position: absolute; left: 0; top: 0; z-index: 1;\")\n",
       "\n",
       "    var pass_mouse_events = true;\n",
       "\n",
       "    canvas_div.resizable({\n",
       "        start: function(event, ui) {\n",
       "            pass_mouse_events = false;\n",
       "        },\n",
       "        resize: function(event, ui) {\n",
       "            fig.request_resize(ui.size.width, ui.size.height);\n",
       "        },\n",
       "        stop: function(event, ui) {\n",
       "            pass_mouse_events = true;\n",
       "            fig.request_resize(ui.size.width, ui.size.height);\n",
       "        },\n",
       "    });\n",
       "\n",
       "    function mouse_event_fn(event) {\n",
       "        if (pass_mouse_events)\n",
       "            return fig.mouse_event(event, event['data']);\n",
       "    }\n",
       "\n",
       "    rubberband.mousedown('button_press', mouse_event_fn);\n",
       "    rubberband.mouseup('button_release', mouse_event_fn);\n",
       "    // Throttle sequential mouse events to 1 every 20ms.\n",
       "    rubberband.mousemove('motion_notify', mouse_event_fn);\n",
       "\n",
       "    rubberband.mouseenter('figure_enter', mouse_event_fn);\n",
       "    rubberband.mouseleave('figure_leave', mouse_event_fn);\n",
       "\n",
       "    canvas_div.on(\"wheel\", function (event) {\n",
       "        event = event.originalEvent;\n",
       "        event['data'] = 'scroll'\n",
       "        if (event.deltaY < 0) {\n",
       "            event.step = 1;\n",
       "        } else {\n",
       "            event.step = -1;\n",
       "        }\n",
       "        mouse_event_fn(event);\n",
       "    });\n",
       "\n",
       "    canvas_div.append(canvas);\n",
       "    canvas_div.append(rubberband);\n",
       "\n",
       "    this.rubberband = rubberband;\n",
       "    this.rubberband_canvas = rubberband[0];\n",
       "    this.rubberband_context = rubberband[0].getContext(\"2d\");\n",
       "    this.rubberband_context.strokeStyle = \"#000000\";\n",
       "\n",
       "    this._resize_canvas = function(width, height) {\n",
       "        // Keep the size of the canvas, canvas container, and rubber band\n",
       "        // canvas in synch.\n",
       "        canvas_div.css('width', width)\n",
       "        canvas_div.css('height', height)\n",
       "\n",
       "        canvas.attr('width', width * mpl.ratio);\n",
       "        canvas.attr('height', height * mpl.ratio);\n",
       "        canvas.attr('style', 'width: ' + width + 'px; height: ' + height + 'px;');\n",
       "\n",
       "        rubberband.attr('width', width);\n",
       "        rubberband.attr('height', height);\n",
       "    }\n",
       "\n",
       "    // Set the figure to an initial 600x600px, this will subsequently be updated\n",
       "    // upon first draw.\n",
       "    this._resize_canvas(600, 600);\n",
       "\n",
       "    // Disable right mouse context menu.\n",
       "    $(this.rubberband_canvas).bind(\"contextmenu\",function(e){\n",
       "        return false;\n",
       "    });\n",
       "\n",
       "    function set_focus () {\n",
       "        canvas.focus();\n",
       "        canvas_div.focus();\n",
       "    }\n",
       "\n",
       "    window.setTimeout(set_focus, 100);\n",
       "}\n",
       "\n",
       "mpl.figure.prototype._init_toolbar = function() {\n",
       "    var fig = this;\n",
       "\n",
       "    var nav_element = $('<div/>')\n",
       "    nav_element.attr('style', 'width: 100%');\n",
       "    this.root.append(nav_element);\n",
       "\n",
       "    // Define a callback function for later on.\n",
       "    function toolbar_event(event) {\n",
       "        return fig.toolbar_button_onclick(event['data']);\n",
       "    }\n",
       "    function toolbar_mouse_event(event) {\n",
       "        return fig.toolbar_button_onmouseover(event['data']);\n",
       "    }\n",
       "\n",
       "    for(var toolbar_ind in mpl.toolbar_items) {\n",
       "        var name = mpl.toolbar_items[toolbar_ind][0];\n",
       "        var tooltip = mpl.toolbar_items[toolbar_ind][1];\n",
       "        var image = mpl.toolbar_items[toolbar_ind][2];\n",
       "        var method_name = mpl.toolbar_items[toolbar_ind][3];\n",
       "\n",
       "        if (!name) {\n",
       "            // put a spacer in here.\n",
       "            continue;\n",
       "        }\n",
       "        var button = $('<button/>');\n",
       "        button.addClass('ui-button ui-widget ui-state-default ui-corner-all ' +\n",
       "                        'ui-button-icon-only');\n",
       "        button.attr('role', 'button');\n",
       "        button.attr('aria-disabled', 'false');\n",
       "        button.click(method_name, toolbar_event);\n",
       "        button.mouseover(tooltip, toolbar_mouse_event);\n",
       "\n",
       "        var icon_img = $('<span/>');\n",
       "        icon_img.addClass('ui-button-icon-primary ui-icon');\n",
       "        icon_img.addClass(image);\n",
       "        icon_img.addClass('ui-corner-all');\n",
       "\n",
       "        var tooltip_span = $('<span/>');\n",
       "        tooltip_span.addClass('ui-button-text');\n",
       "        tooltip_span.html(tooltip);\n",
       "\n",
       "        button.append(icon_img);\n",
       "        button.append(tooltip_span);\n",
       "\n",
       "        nav_element.append(button);\n",
       "    }\n",
       "\n",
       "    var fmt_picker_span = $('<span/>');\n",
       "\n",
       "    var fmt_picker = $('<select/>');\n",
       "    fmt_picker.addClass('mpl-toolbar-option ui-widget ui-widget-content');\n",
       "    fmt_picker_span.append(fmt_picker);\n",
       "    nav_element.append(fmt_picker_span);\n",
       "    this.format_dropdown = fmt_picker[0];\n",
       "\n",
       "    for (var ind in mpl.extensions) {\n",
       "        var fmt = mpl.extensions[ind];\n",
       "        var option = $(\n",
       "            '<option/>', {selected: fmt === mpl.default_extension}).html(fmt);\n",
       "        fmt_picker.append(option)\n",
       "    }\n",
       "\n",
       "    // Add hover states to the ui-buttons\n",
       "    $( \".ui-button\" ).hover(\n",
       "        function() { $(this).addClass(\"ui-state-hover\");},\n",
       "        function() { $(this).removeClass(\"ui-state-hover\");}\n",
       "    );\n",
       "\n",
       "    var status_bar = $('<span class=\"mpl-message\"/>');\n",
       "    nav_element.append(status_bar);\n",
       "    this.message = status_bar[0];\n",
       "}\n",
       "\n",
       "mpl.figure.prototype.request_resize = function(x_pixels, y_pixels) {\n",
       "    // Request matplotlib to resize the figure. Matplotlib will then trigger a resize in the client,\n",
       "    // which will in turn request a refresh of the image.\n",
       "    this.send_message('resize', {'width': x_pixels, 'height': y_pixels});\n",
       "}\n",
       "\n",
       "mpl.figure.prototype.send_message = function(type, properties) {\n",
       "    properties['type'] = type;\n",
       "    properties['figure_id'] = this.id;\n",
       "    this.ws.send(JSON.stringify(properties));\n",
       "}\n",
       "\n",
       "mpl.figure.prototype.send_draw_message = function() {\n",
       "    if (!this.waiting) {\n",
       "        this.waiting = true;\n",
       "        this.ws.send(JSON.stringify({type: \"draw\", figure_id: this.id}));\n",
       "    }\n",
       "}\n",
       "\n",
       "\n",
       "mpl.figure.prototype.handle_save = function(fig, msg) {\n",
       "    var format_dropdown = fig.format_dropdown;\n",
       "    var format = format_dropdown.options[format_dropdown.selectedIndex].value;\n",
       "    fig.ondownload(fig, format);\n",
       "}\n",
       "\n",
       "\n",
       "mpl.figure.prototype.handle_resize = function(fig, msg) {\n",
       "    var size = msg['size'];\n",
       "    if (size[0] != fig.canvas.width || size[1] != fig.canvas.height) {\n",
       "        fig._resize_canvas(size[0], size[1]);\n",
       "        fig.send_message(\"refresh\", {});\n",
       "    };\n",
       "}\n",
       "\n",
       "mpl.figure.prototype.handle_rubberband = function(fig, msg) {\n",
       "    var x0 = msg['x0'] / mpl.ratio;\n",
       "    var y0 = (fig.canvas.height - msg['y0']) / mpl.ratio;\n",
       "    var x1 = msg['x1'] / mpl.ratio;\n",
       "    var y1 = (fig.canvas.height - msg['y1']) / mpl.ratio;\n",
       "    x0 = Math.floor(x0) + 0.5;\n",
       "    y0 = Math.floor(y0) + 0.5;\n",
       "    x1 = Math.floor(x1) + 0.5;\n",
       "    y1 = Math.floor(y1) + 0.5;\n",
       "    var min_x = Math.min(x0, x1);\n",
       "    var min_y = Math.min(y0, y1);\n",
       "    var width = Math.abs(x1 - x0);\n",
       "    var height = Math.abs(y1 - y0);\n",
       "\n",
       "    fig.rubberband_context.clearRect(\n",
       "        0, 0, fig.canvas.width, fig.canvas.height);\n",
       "\n",
       "    fig.rubberband_context.strokeRect(min_x, min_y, width, height);\n",
       "}\n",
       "\n",
       "mpl.figure.prototype.handle_figure_label = function(fig, msg) {\n",
       "    // Updates the figure title.\n",
       "    fig.header.textContent = msg['label'];\n",
       "}\n",
       "\n",
       "mpl.figure.prototype.handle_cursor = function(fig, msg) {\n",
       "    var cursor = msg['cursor'];\n",
       "    switch(cursor)\n",
       "    {\n",
       "    case 0:\n",
       "        cursor = 'pointer';\n",
       "        break;\n",
       "    case 1:\n",
       "        cursor = 'default';\n",
       "        break;\n",
       "    case 2:\n",
       "        cursor = 'crosshair';\n",
       "        break;\n",
       "    case 3:\n",
       "        cursor = 'move';\n",
       "        break;\n",
       "    }\n",
       "    fig.rubberband_canvas.style.cursor = cursor;\n",
       "}\n",
       "\n",
       "mpl.figure.prototype.handle_message = function(fig, msg) {\n",
       "    fig.message.textContent = msg['message'];\n",
       "}\n",
       "\n",
       "mpl.figure.prototype.handle_draw = function(fig, msg) {\n",
       "    // Request the server to send over a new figure.\n",
       "    fig.send_draw_message();\n",
       "}\n",
       "\n",
       "mpl.figure.prototype.handle_image_mode = function(fig, msg) {\n",
       "    fig.image_mode = msg['mode'];\n",
       "}\n",
       "\n",
       "mpl.figure.prototype.updated_canvas_event = function() {\n",
       "    // Called whenever the canvas gets updated.\n",
       "    this.send_message(\"ack\", {});\n",
       "}\n",
       "\n",
       "// A function to construct a web socket function for onmessage handling.\n",
       "// Called in the figure constructor.\n",
       "mpl.figure.prototype._make_on_message_function = function(fig) {\n",
       "    return function socket_on_message(evt) {\n",
       "        if (evt.data instanceof Blob) {\n",
       "            /* FIXME: We get \"Resource interpreted as Image but\n",
       "             * transferred with MIME type text/plain:\" errors on\n",
       "             * Chrome.  But how to set the MIME type?  It doesn't seem\n",
       "             * to be part of the websocket stream */\n",
       "            evt.data.type = \"image/png\";\n",
       "\n",
       "            /* Free the memory for the previous frames */\n",
       "            if (fig.imageObj.src) {\n",
       "                (window.URL || window.webkitURL).revokeObjectURL(\n",
       "                    fig.imageObj.src);\n",
       "            }\n",
       "\n",
       "            fig.imageObj.src = (window.URL || window.webkitURL).createObjectURL(\n",
       "                evt.data);\n",
       "            fig.updated_canvas_event();\n",
       "            fig.waiting = false;\n",
       "            return;\n",
       "        }\n",
       "        else if (typeof evt.data === 'string' && evt.data.slice(0, 21) == \"data:image/png;base64\") {\n",
       "            fig.imageObj.src = evt.data;\n",
       "            fig.updated_canvas_event();\n",
       "            fig.waiting = false;\n",
       "            return;\n",
       "        }\n",
       "\n",
       "        var msg = JSON.parse(evt.data);\n",
       "        var msg_type = msg['type'];\n",
       "\n",
       "        // Call the  \"handle_{type}\" callback, which takes\n",
       "        // the figure and JSON message as its only arguments.\n",
       "        try {\n",
       "            var callback = fig[\"handle_\" + msg_type];\n",
       "        } catch (e) {\n",
       "            console.log(\"No handler for the '\" + msg_type + \"' message type: \", msg);\n",
       "            return;\n",
       "        }\n",
       "\n",
       "        if (callback) {\n",
       "            try {\n",
       "                // console.log(\"Handling '\" + msg_type + \"' message: \", msg);\n",
       "                callback(fig, msg);\n",
       "            } catch (e) {\n",
       "                console.log(\"Exception inside the 'handler_\" + msg_type + \"' callback:\", e, e.stack, msg);\n",
       "            }\n",
       "        }\n",
       "    };\n",
       "}\n",
       "\n",
       "// from http://stackoverflow.com/questions/1114465/getting-mouse-location-in-canvas\n",
       "mpl.findpos = function(e) {\n",
       "    //this section is from http://www.quirksmode.org/js/events_properties.html\n",
       "    var targ;\n",
       "    if (!e)\n",
       "        e = window.event;\n",
       "    if (e.target)\n",
       "        targ = e.target;\n",
       "    else if (e.srcElement)\n",
       "        targ = e.srcElement;\n",
       "    if (targ.nodeType == 3) // defeat Safari bug\n",
       "        targ = targ.parentNode;\n",
       "\n",
       "    // jQuery normalizes the pageX and pageY\n",
       "    // pageX,Y are the mouse positions relative to the document\n",
       "    // offset() returns the position of the element relative to the document\n",
       "    var x = e.pageX - $(targ).offset().left;\n",
       "    var y = e.pageY - $(targ).offset().top;\n",
       "\n",
       "    return {\"x\": x, \"y\": y};\n",
       "};\n",
       "\n",
       "/*\n",
       " * return a copy of an object with only non-object keys\n",
       " * we need this to avoid circular references\n",
       " * http://stackoverflow.com/a/24161582/3208463\n",
       " */\n",
       "function simpleKeys (original) {\n",
       "  return Object.keys(original).reduce(function (obj, key) {\n",
       "    if (typeof original[key] !== 'object')\n",
       "        obj[key] = original[key]\n",
       "    return obj;\n",
       "  }, {});\n",
       "}\n",
       "\n",
       "mpl.figure.prototype.mouse_event = function(event, name) {\n",
       "    var canvas_pos = mpl.findpos(event)\n",
       "\n",
       "    if (name === 'button_press')\n",
       "    {\n",
       "        this.canvas.focus();\n",
       "        this.canvas_div.focus();\n",
       "    }\n",
       "\n",
       "    var x = canvas_pos.x * mpl.ratio;\n",
       "    var y = canvas_pos.y * mpl.ratio;\n",
       "\n",
       "    this.send_message(name, {x: x, y: y, button: event.button,\n",
       "                             step: event.step,\n",
       "                             guiEvent: simpleKeys(event)});\n",
       "\n",
       "    /* This prevents the web browser from automatically changing to\n",
       "     * the text insertion cursor when the button is pressed.  We want\n",
       "     * to control all of the cursor setting manually through the\n",
       "     * 'cursor' event from matplotlib */\n",
       "    event.preventDefault();\n",
       "    return false;\n",
       "}\n",
       "\n",
       "mpl.figure.prototype._key_event_extra = function(event, name) {\n",
       "    // Handle any extra behaviour associated with a key event\n",
       "}\n",
       "\n",
       "mpl.figure.prototype.key_event = function(event, name) {\n",
       "\n",
       "    // Prevent repeat events\n",
       "    if (name == 'key_press')\n",
       "    {\n",
       "        if (event.which === this._key)\n",
       "            return;\n",
       "        else\n",
       "            this._key = event.which;\n",
       "    }\n",
       "    if (name == 'key_release')\n",
       "        this._key = null;\n",
       "\n",
       "    var value = '';\n",
       "    if (event.ctrlKey && event.which != 17)\n",
       "        value += \"ctrl+\";\n",
       "    if (event.altKey && event.which != 18)\n",
       "        value += \"alt+\";\n",
       "    if (event.shiftKey && event.which != 16)\n",
       "        value += \"shift+\";\n",
       "\n",
       "    value += 'k';\n",
       "    value += event.which.toString();\n",
       "\n",
       "    this._key_event_extra(event, name);\n",
       "\n",
       "    this.send_message(name, {key: value,\n",
       "                             guiEvent: simpleKeys(event)});\n",
       "    return false;\n",
       "}\n",
       "\n",
       "mpl.figure.prototype.toolbar_button_onclick = function(name) {\n",
       "    if (name == 'download') {\n",
       "        this.handle_save(this, null);\n",
       "    } else {\n",
       "        this.send_message(\"toolbar_button\", {name: name});\n",
       "    }\n",
       "};\n",
       "\n",
       "mpl.figure.prototype.toolbar_button_onmouseover = function(tooltip) {\n",
       "    this.message.textContent = tooltip;\n",
       "};\n",
       "mpl.toolbar_items = [[\"Home\", \"Reset original view\", \"fa fa-home icon-home\", \"home\"], [\"Back\", \"Back to  previous view\", \"fa fa-arrow-left icon-arrow-left\", \"back\"], [\"Forward\", \"Forward to next view\", \"fa fa-arrow-right icon-arrow-right\", \"forward\"], [\"\", \"\", \"\", \"\"], [\"Pan\", \"Pan axes with left mouse, zoom with right\", \"fa fa-arrows icon-move\", \"pan\"], [\"Zoom\", \"Zoom to rectangle\", \"fa fa-square-o icon-check-empty\", \"zoom\"], [\"\", \"\", \"\", \"\"], [\"Download\", \"Download plot\", \"fa fa-floppy-o icon-save\", \"download\"]];\n",
       "\n",
       "mpl.extensions = [\"eps\", \"jpeg\", \"pdf\", \"png\", \"ps\", \"raw\", \"svg\", \"tif\"];\n",
       "\n",
       "mpl.default_extension = \"png\";var comm_websocket_adapter = function(comm) {\n",
       "    // Create a \"websocket\"-like object which calls the given IPython comm\n",
       "    // object with the appropriate methods. Currently this is a non binary\n",
       "    // socket, so there is still some room for performance tuning.\n",
       "    var ws = {};\n",
       "\n",
       "    ws.close = function() {\n",
       "        comm.close()\n",
       "    };\n",
       "    ws.send = function(m) {\n",
       "        //console.log('sending', m);\n",
       "        comm.send(m);\n",
       "    };\n",
       "    // Register the callback with on_msg.\n",
       "    comm.on_msg(function(msg) {\n",
       "        //console.log('receiving', msg['content']['data'], msg);\n",
       "        // Pass the mpl event to the overriden (by mpl) onmessage function.\n",
       "        ws.onmessage(msg['content']['data'])\n",
       "    });\n",
       "    return ws;\n",
       "}\n",
       "\n",
       "mpl.mpl_figure_comm = function(comm, msg) {\n",
       "    // This is the function which gets called when the mpl process\n",
       "    // starts-up an IPython Comm through the \"matplotlib\" channel.\n",
       "\n",
       "    var id = msg.content.data.id;\n",
       "    // Get hold of the div created by the display call when the Comm\n",
       "    // socket was opened in Python.\n",
       "    var element = $(\"#\" + id);\n",
       "    var ws_proxy = comm_websocket_adapter(comm)\n",
       "\n",
       "    function ondownload(figure, format) {\n",
       "        window.open(figure.imageObj.src);\n",
       "    }\n",
       "\n",
       "    var fig = new mpl.figure(id, ws_proxy,\n",
       "                           ondownload,\n",
       "                           element.get(0));\n",
       "\n",
       "    // Call onopen now - mpl needs it, as it is assuming we've passed it a real\n",
       "    // web socket which is closed, not our websocket->open comm proxy.\n",
       "    ws_proxy.onopen();\n",
       "\n",
       "    fig.parent_element = element.get(0);\n",
       "    fig.cell_info = mpl.find_output_cell(\"<div id='\" + id + \"'></div>\");\n",
       "    if (!fig.cell_info) {\n",
       "        console.error(\"Failed to find cell for figure\", id, fig);\n",
       "        return;\n",
       "    }\n",
       "\n",
       "    var output_index = fig.cell_info[2]\n",
       "    var cell = fig.cell_info[0];\n",
       "\n",
       "};\n",
       "\n",
       "mpl.figure.prototype.handle_close = function(fig, msg) {\n",
       "    var width = fig.canvas.width/mpl.ratio\n",
       "    fig.root.unbind('remove')\n",
       "\n",
       "    // Update the output cell to use the data from the current canvas.\n",
       "    fig.push_to_output();\n",
       "    var dataURL = fig.canvas.toDataURL();\n",
       "    // Re-enable the keyboard manager in IPython - without this line, in FF,\n",
       "    // the notebook keyboard shortcuts fail.\n",
       "    IPython.keyboard_manager.enable()\n",
       "    $(fig.parent_element).html('<img src=\"' + dataURL + '\" width=\"' + width + '\">');\n",
       "    fig.close_ws(fig, msg);\n",
       "}\n",
       "\n",
       "mpl.figure.prototype.close_ws = function(fig, msg){\n",
       "    fig.send_message('closing', msg);\n",
       "    // fig.ws.close()\n",
       "}\n",
       "\n",
       "mpl.figure.prototype.push_to_output = function(remove_interactive) {\n",
       "    // Turn the data on the canvas into data in the output cell.\n",
       "    var width = this.canvas.width/mpl.ratio\n",
       "    var dataURL = this.canvas.toDataURL();\n",
       "    this.cell_info[1]['text/html'] = '<img src=\"' + dataURL + '\" width=\"' + width + '\">';\n",
       "}\n",
       "\n",
       "mpl.figure.prototype.updated_canvas_event = function() {\n",
       "    // Tell IPython that the notebook contents must change.\n",
       "    IPython.notebook.set_dirty(true);\n",
       "    this.send_message(\"ack\", {});\n",
       "    var fig = this;\n",
       "    // Wait a second, then push the new image to the DOM so\n",
       "    // that it is saved nicely (might be nice to debounce this).\n",
       "    setTimeout(function () { fig.push_to_output() }, 1000);\n",
       "}\n",
       "\n",
       "mpl.figure.prototype._init_toolbar = function() {\n",
       "    var fig = this;\n",
       "\n",
       "    var nav_element = $('<div/>')\n",
       "    nav_element.attr('style', 'width: 100%');\n",
       "    this.root.append(nav_element);\n",
       "\n",
       "    // Define a callback function for later on.\n",
       "    function toolbar_event(event) {\n",
       "        return fig.toolbar_button_onclick(event['data']);\n",
       "    }\n",
       "    function toolbar_mouse_event(event) {\n",
       "        return fig.toolbar_button_onmouseover(event['data']);\n",
       "    }\n",
       "\n",
       "    for(var toolbar_ind in mpl.toolbar_items){\n",
       "        var name = mpl.toolbar_items[toolbar_ind][0];\n",
       "        var tooltip = mpl.toolbar_items[toolbar_ind][1];\n",
       "        var image = mpl.toolbar_items[toolbar_ind][2];\n",
       "        var method_name = mpl.toolbar_items[toolbar_ind][3];\n",
       "\n",
       "        if (!name) { continue; };\n",
       "\n",
       "        var button = $('<button class=\"btn btn-default\" href=\"#\" title=\"' + name + '\"><i class=\"fa ' + image + ' fa-lg\"></i></button>');\n",
       "        button.click(method_name, toolbar_event);\n",
       "        button.mouseover(tooltip, toolbar_mouse_event);\n",
       "        nav_element.append(button);\n",
       "    }\n",
       "\n",
       "    // Add the status bar.\n",
       "    var status_bar = $('<span class=\"mpl-message\" style=\"text-align:right; float: right;\"/>');\n",
       "    nav_element.append(status_bar);\n",
       "    this.message = status_bar[0];\n",
       "\n",
       "    // Add the close button to the window.\n",
       "    var buttongrp = $('<div class=\"btn-group inline pull-right\"></div>');\n",
       "    var button = $('<button class=\"btn btn-mini btn-primary\" href=\"#\" title=\"Stop Interaction\"><i class=\"fa fa-power-off icon-remove icon-large\"></i></button>');\n",
       "    button.click(function (evt) { fig.handle_close(fig, {}); } );\n",
       "    button.mouseover('Stop Interaction', toolbar_mouse_event);\n",
       "    buttongrp.append(button);\n",
       "    var titlebar = this.root.find($('.ui-dialog-titlebar'));\n",
       "    titlebar.prepend(buttongrp);\n",
       "}\n",
       "\n",
       "mpl.figure.prototype._root_extra_style = function(el){\n",
       "    var fig = this\n",
       "    el.on(\"remove\", function(){\n",
       "\tfig.close_ws(fig, {});\n",
       "    });\n",
       "}\n",
       "\n",
       "mpl.figure.prototype._canvas_extra_style = function(el){\n",
       "    // this is important to make the div 'focusable\n",
       "    el.attr('tabindex', 0)\n",
       "    // reach out to IPython and tell the keyboard manager to turn it's self\n",
       "    // off when our div gets focus\n",
       "\n",
       "    // location in version 3\n",
       "    if (IPython.notebook.keyboard_manager) {\n",
       "        IPython.notebook.keyboard_manager.register_events(el);\n",
       "    }\n",
       "    else {\n",
       "        // location in version 2\n",
       "        IPython.keyboard_manager.register_events(el);\n",
       "    }\n",
       "\n",
       "}\n",
       "\n",
       "mpl.figure.prototype._key_event_extra = function(event, name) {\n",
       "    var manager = IPython.notebook.keyboard_manager;\n",
       "    if (!manager)\n",
       "        manager = IPython.keyboard_manager;\n",
       "\n",
       "    // Check for shift+enter\n",
       "    if (event.shiftKey && event.which == 13) {\n",
       "        this.canvas_div.blur();\n",
       "        // select the cell after this one\n",
       "        var index = IPython.notebook.find_cell_index(this.cell_info[0]);\n",
       "        IPython.notebook.select(index + 1);\n",
       "    }\n",
       "}\n",
       "\n",
       "mpl.figure.prototype.handle_save = function(fig, msg) {\n",
       "    fig.ondownload(fig, null);\n",
       "}\n",
       "\n",
       "\n",
       "mpl.find_output_cell = function(html_output) {\n",
       "    // Return the cell and output element which can be found *uniquely* in the notebook.\n",
       "    // Note - this is a bit hacky, but it is done because the \"notebook_saving.Notebook\"\n",
       "    // IPython event is triggered only after the cells have been serialised, which for\n",
       "    // our purposes (turning an active figure into a static one), is too late.\n",
       "    var cells = IPython.notebook.get_cells();\n",
       "    var ncells = cells.length;\n",
       "    for (var i=0; i<ncells; i++) {\n",
       "        var cell = cells[i];\n",
       "        if (cell.cell_type === 'code'){\n",
       "            for (var j=0; j<cell.output_area.outputs.length; j++) {\n",
       "                var data = cell.output_area.outputs[j];\n",
       "                if (data.data) {\n",
       "                    // IPython >= 3 moved mimebundle to data attribute of output\n",
       "                    data = data.data;\n",
       "                }\n",
       "                if (data['text/html'] == html_output) {\n",
       "                    return [cell, data, j];\n",
       "                }\n",
       "            }\n",
       "        }\n",
       "    }\n",
       "}\n",
       "\n",
       "// Register the function which deals with the matplotlib target/channel.\n",
       "// The kernel may be null if the page has been refreshed.\n",
       "if (IPython.notebook.kernel != null) {\n",
       "    IPython.notebook.kernel.comm_manager.register_target('matplotlib', mpl.mpl_figure_comm);\n",
       "}\n"
      ],
      "text/plain": [
       "<IPython.core.display.Javascript object>"
      ]
     },
     "metadata": {},
     "output_type": "display_data"
    },
    {
     "data": {
      "text/html": [
       "<img src=\"data:image/png;base64,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\" width=\"799.9999682108573\">"
      ],
      "text/plain": [
       "<IPython.core.display.HTML object>"
      ]
     },
     "metadata": {},
     "output_type": "display_data"
    }
   ],
   "source": [
    "from sklearn.metrics import precision_recall_curve\n",
    "\n",
    "precision, recall, thresholds = precision_recall_curve(y_test, y_scores_lr)\n",
    "closest_zero = np.argmin(np.abs(thresholds))\n",
    "closest_zero_p = precision[closest_zero]\n",
    "closest_zero_r = recall[closest_zero]\n",
    "\n",
    "plt.figure()\n",
    "plt.xlim([0.0, 1.01])\n",
    "plt.ylim([0.0, 1.01])\n",
    "plt.plot(precision, recall, label='Precision-Recall Curve')\n",
    "plt.plot(closest_zero_p, closest_zero_r, 'o', markersize = 12, fillstyle = 'none', c='r', mew=3)\n",
    "plt.xlabel('Precision', fontsize=16)\n",
    "plt.ylabel('Recall', fontsize=16)\n",
    "plt.axes().set_aspect('equal')\n",
    "plt.show()"
   ]
  },
  {
   "cell_type": "markdown",
   "metadata": {},
   "source": [
    "### ROC curves, Area-Under-Curve (AUC)"
   ]
  },
  {
   "cell_type": "code",
   "execution_count": null,
   "metadata": {
    "collapsed": false
   },
   "outputs": [],
   "source": [
    "from sklearn.metrics import roc_curve, auc\n",
    "\n",
    "X_train, X_test, y_train, y_test = train_test_split(X, y_binary_imbalanced, random_state=0)\n",
    "\n",
    "y_score_lr = lr.fit(X_train, y_train).decision_function(X_test)\n",
    "fpr_lr, tpr_lr, _ = roc_curve(y_test, y_score_lr)\n",
    "roc_auc_lr = auc(fpr_lr, tpr_lr)\n",
    "\n",
    "plt.figure()\n",
    "plt.xlim([-0.01, 1.00])\n",
    "plt.ylim([-0.01, 1.01])\n",
    "plt.plot(fpr_lr, tpr_lr, lw=3, label='LogRegr ROC curve (area = {:0.2f})'.format(roc_auc_lr))\n",
    "plt.xlabel('False Positive Rate', fontsize=16)\n",
    "plt.ylabel('True Positive Rate', fontsize=16)\n",
    "plt.title('ROC curve (1-of-10 digits classifier)', fontsize=16)\n",
    "plt.legend(loc='lower right', fontsize=13)\n",
    "plt.plot([0, 1], [0, 1], color='navy', lw=3, linestyle='--')\n",
    "plt.axes().set_aspect('equal')\n",
    "plt.show()"
   ]
  },
  {
   "cell_type": "code",
   "execution_count": null,
   "metadata": {
    "collapsed": false,
    "scrolled": false
   },
   "outputs": [],
   "source": [
    "from matplotlib import cm\n",
    "\n",
    "X_train, X_test, y_train, y_test = train_test_split(X, y_binary_imbalanced, random_state=0)\n",
    "\n",
    "plt.figure()\n",
    "plt.xlim([-0.01, 1.00])\n",
    "plt.ylim([-0.01, 1.01])\n",
    "for g in [0.01, 0.1, 0.20, 1]:\n",
    "    svm = SVC(gamma=g).fit(X_train, y_train)\n",
    "    y_score_svm = svm.decision_function(X_test)\n",
    "    fpr_svm, tpr_svm, _ = roc_curve(y_test, y_score_svm)\n",
    "    roc_auc_svm = auc(fpr_svm, tpr_svm)\n",
    "    accuracy_svm = svm.score(X_test, y_test)\n",
    "    print(\"gamma = {:.2f}  accuracy = {:.2f}   AUC = {:.2f}\".format(g, accuracy_svm, \n",
    "                                                                    roc_auc_svm))\n",
    "    plt.plot(fpr_svm, tpr_svm, lw=3, alpha=0.7, \n",
    "             label='SVM (gamma = {:0.2f}, area = {:0.2f})'.format(g, roc_auc_svm))\n",
    "\n",
    "plt.xlabel('False Positive Rate', fontsize=16)\n",
    "plt.ylabel('True Positive Rate (Recall)', fontsize=16)\n",
    "plt.plot([0, 1], [0, 1], color='k', lw=0.5, linestyle='--')\n",
    "plt.legend(loc=\"lower right\", fontsize=11)\n",
    "plt.title('ROC curve: (1-of-10 digits classifier)', fontsize=16)\n",
    "plt.axes().set_aspect('equal')\n",
    "\n",
    "plt.show()"
   ]
  },
  {
   "cell_type": "markdown",
   "metadata": {},
   "source": [
    "### Evaluation measures for multi-class classification"
   ]
  },
  {
   "cell_type": "markdown",
   "metadata": {},
   "source": [
    "#### Multi-class confusion matrix"
   ]
  },
  {
   "cell_type": "code",
   "execution_count": null,
   "metadata": {
    "collapsed": false,
    "scrolled": false
   },
   "outputs": [],
   "source": [
    "dataset = load_digits()\n",
    "X, y = dataset.data, dataset.target\n",
    "X_train_mc, X_test_mc, y_train_mc, y_test_mc = train_test_split(X, y, random_state=0)\n",
    "\n",
    "\n",
    "svm = SVC(kernel = 'linear').fit(X_train_mc, y_train_mc)\n",
    "svm_predicted_mc = svm.predict(X_test_mc)\n",
    "confusion_mc = confusion_matrix(y_test_mc, svm_predicted_mc)\n",
    "df_cm = pd.DataFrame(confusion_mc, \n",
    "                     index = [i for i in range(0,10)], columns = [i for i in range(0,10)])\n",
    "\n",
    "plt.figure(figsize=(5.5,4))\n",
    "sns.heatmap(df_cm, annot=True)\n",
    "plt.title('SVM Linear Kernel \\nAccuracy:{0:.3f}'.format(accuracy_score(y_test_mc, \n",
    "                                                                       svm_predicted_mc)))\n",
    "plt.ylabel('True label')\n",
    "plt.xlabel('Predicted label')\n",
    "\n",
    "\n",
    "svm = SVC(kernel = 'rbf').fit(X_train_mc, y_train_mc)\n",
    "svm_predicted_mc = svm.predict(X_test_mc)\n",
    "confusion_mc = confusion_matrix(y_test_mc, svm_predicted_mc)\n",
    "df_cm = pd.DataFrame(confusion_mc, index = [i for i in range(0,10)],\n",
    "                  columns = [i for i in range(0,10)])\n",
    "\n",
    "plt.figure(figsize = (5.5,4))\n",
    "sns.heatmap(df_cm, annot=True)\n",
    "plt.title('SVM RBF Kernel \\nAccuracy:{0:.3f}'.format(accuracy_score(y_test_mc, \n",
    "                                                                    svm_predicted_mc)))\n",
    "plt.ylabel('True label')\n",
    "plt.xlabel('Predicted label');"
   ]
  },
  {
   "cell_type": "markdown",
   "metadata": {},
   "source": [
    "#### Multi-class classification report"
   ]
  },
  {
   "cell_type": "code",
   "execution_count": null,
   "metadata": {
    "collapsed": false
   },
   "outputs": [],
   "source": [
    "print(classification_report(y_test_mc, svm_predicted_mc))"
   ]
  },
  {
   "cell_type": "markdown",
   "metadata": {},
   "source": [
    "#### Micro- vs. macro-averaged metrics"
   ]
  },
  {
   "cell_type": "code",
   "execution_count": null,
   "metadata": {
    "collapsed": false
   },
   "outputs": [],
   "source": [
    "print('Micro-averaged precision = {:.2f} (treat instances equally)'\n",
    "      .format(precision_score(y_test_mc, svm_predicted_mc, average = 'micro')))\n",
    "print('Macro-averaged precision = {:.2f} (treat classes equally)'\n",
    "      .format(precision_score(y_test_mc, svm_predicted_mc, average = 'macro')))"
   ]
  },
  {
   "cell_type": "code",
   "execution_count": null,
   "metadata": {
    "collapsed": false
   },
   "outputs": [],
   "source": [
    "print('Micro-averaged f1 = {:.2f} (treat instances equally)'\n",
    "      .format(f1_score(y_test_mc, svm_predicted_mc, average = 'micro')))\n",
    "print('Macro-averaged f1 = {:.2f} (treat classes equally)'\n",
    "      .format(f1_score(y_test_mc, svm_predicted_mc, average = 'macro')))"
   ]
  },
  {
   "cell_type": "markdown",
   "metadata": {},
   "source": [
    "### Regression evaluation metrics"
   ]
  },
  {
   "cell_type": "code",
   "execution_count": null,
   "metadata": {
    "collapsed": false
   },
   "outputs": [],
   "source": [
    "%matplotlib notebook\n",
    "import matplotlib.pyplot as plt\n",
    "import numpy as np\n",
    "from sklearn.model_selection import train_test_split\n",
    "from sklearn import datasets\n",
    "from sklearn.linear_model import LinearRegression\n",
    "from sklearn.metrics import mean_squared_error, r2_score\n",
    "from sklearn.dummy import DummyRegressor\n",
    "\n",
    "diabetes = datasets.load_diabetes()\n",
    "\n",
    "X = diabetes.data[:, None, 6]\n",
    "y = diabetes.target\n",
    "\n",
    "X_train, X_test, y_train, y_test = train_test_split(X, y, random_state=0)\n",
    "\n",
    "lm = LinearRegression().fit(X_train, y_train)\n",
    "lm_dummy_mean = DummyRegressor(strategy = 'mean').fit(X_train, y_train)\n",
    "\n",
    "y_predict = lm.predict(X_test)\n",
    "y_predict_dummy_mean = lm_dummy_mean.predict(X_test)\n",
    "\n",
    "print('Linear model, coefficients: ', lm.coef_)\n",
    "print(\"Mean squared error (dummy): {:.2f}\".format(mean_squared_error(y_test, \n",
    "                                                                     y_predict_dummy_mean)))\n",
    "print(\"Mean squared error (linear model): {:.2f}\".format(mean_squared_error(y_test, y_predict)))\n",
    "print(\"r2_score (dummy): {:.2f}\".format(r2_score(y_test, y_predict_dummy_mean)))\n",
    "print(\"r2_score (linear model): {:.2f}\".format(r2_score(y_test, y_predict)))\n",
    "\n",
    "# Plot outputs\n",
    "plt.scatter(X_test, y_test,  color='black')\n",
    "plt.plot(X_test, y_predict, color='green', linewidth=2)\n",
    "plt.plot(X_test, y_predict_dummy_mean, color='red', linestyle = 'dashed', \n",
    "         linewidth=2, label = 'dummy')\n",
    "\n",
    "plt.show()"
   ]
  },
  {
   "cell_type": "markdown",
   "metadata": {},
   "source": [
    "### Model selection using evaluation metrics"
   ]
  },
  {
   "cell_type": "markdown",
   "metadata": {},
   "source": [
    "#### Cross-validation example"
   ]
  },
  {
   "cell_type": "code",
   "execution_count": null,
   "metadata": {
    "collapsed": false
   },
   "outputs": [],
   "source": [
    "from sklearn.model_selection import cross_val_score\n",
    "from sklearn.svm import SVC\n",
    "\n",
    "dataset = load_digits()\n",
    "# again, making this a binary problem with 'digit 1' as positive class \n",
    "# and 'not 1' as negative class\n",
    "X, y = dataset.data, dataset.target == 1\n",
    "clf = SVC(kernel='linear', C=1)\n",
    "\n",
    "# accuracy is the default scoring metric\n",
    "print('Cross-validation (accuracy)', cross_val_score(clf, X, y, cv=5))\n",
    "# use AUC as scoring metric\n",
    "print('Cross-validation (AUC)', cross_val_score(clf, X, y, cv=5, scoring = 'roc_auc'))\n",
    "# use recall as scoring metric\n",
    "print('Cross-validation (recall)', cross_val_score(clf, X, y, cv=5, scoring = 'recall'))"
   ]
  },
  {
   "cell_type": "markdown",
   "metadata": {},
   "source": [
    "#### Grid search example"
   ]
  },
  {
   "cell_type": "code",
   "execution_count": null,
   "metadata": {
    "collapsed": false
   },
   "outputs": [],
   "source": [
    "from sklearn.svm import SVC\n",
    "from sklearn.model_selection import GridSearchCV\n",
    "from sklearn.metrics import roc_auc_score\n",
    "\n",
    "dataset = load_digits()\n",
    "X, y = dataset.data, dataset.target == 1\n",
    "X_train, X_test, y_train, y_test = train_test_split(X, y, random_state=0)\n",
    "\n",
    "clf = SVC(kernel='rbf')\n",
    "grid_values = {'gamma': [0.001, 0.01, 0.05, 0.1, 1, 10, 100]}\n",
    "\n",
    "# default metric to optimize over grid parameters: accuracy\n",
    "grid_clf_acc = GridSearchCV(clf, param_grid = grid_values)\n",
    "grid_clf_acc.fit(X_train, y_train)\n",
    "y_decision_fn_scores_acc = grid_clf_acc.decision_function(X_test) \n",
    "\n",
    "print('Grid best parameter (max. accuracy): ', grid_clf_acc.best_params_)\n",
    "print('Grid best score (accuracy): ', grid_clf_acc.best_score_)\n",
    "\n",
    "# alternative metric to optimize over grid parameters: AUC\n",
    "grid_clf_auc = GridSearchCV(clf, param_grid = grid_values, scoring = 'roc_auc')\n",
    "grid_clf_auc.fit(X_train, y_train)\n",
    "y_decision_fn_scores_auc = grid_clf_auc.decision_function(X_test) \n",
    "\n",
    "print('Test set AUC: ', roc_auc_score(y_test, y_decision_fn_scores_auc))\n",
    "print('Grid best parameter (max. AUC): ', grid_clf_auc.best_params_)\n",
    "print('Grid best score (AUC): ', grid_clf_auc.best_score_)\n"
   ]
  },
  {
   "cell_type": "markdown",
   "metadata": {},
   "source": [
    "#### Evaluation metrics supported for model selection"
   ]
  },
  {
   "cell_type": "code",
   "execution_count": null,
   "metadata": {
    "collapsed": false
   },
   "outputs": [],
   "source": [
    "from sklearn.metrics.scorer import SCORERS\n",
    "\n",
    "print(sorted(list(SCORERS.keys())))"
   ]
  },
  {
   "cell_type": "markdown",
   "metadata": {},
   "source": [
    "### Two-feature classification example using the digits dataset"
   ]
  },
  {
   "cell_type": "markdown",
   "metadata": {},
   "source": [
    "#### Optimizing a classifier using different evaluation metrics"
   ]
  },
  {
   "cell_type": "code",
   "execution_count": null,
   "metadata": {
    "collapsed": false,
    "scrolled": false
   },
   "outputs": [],
   "source": [
    "from sklearn.datasets import load_digits\n",
    "from sklearn.model_selection import train_test_split\n",
    "from adspy_shared_utilities import plot_class_regions_for_classifier_subplot\n",
    "from sklearn.svm import SVC\n",
    "from sklearn.model_selection import GridSearchCV\n",
    "\n",
    "\n",
    "dataset = load_digits()\n",
    "X, y = dataset.data, dataset.target == 1\n",
    "X_train, X_test, y_train, y_test = train_test_split(X, y, random_state=0)\n",
    "\n",
    "# Create a two-feature input vector matching the example plot above\n",
    "# We jitter the points (add a small amount of random noise) in case there are areas\n",
    "# in feature space where many instances have the same features.\n",
    "jitter_delta = 0.25\n",
    "X_twovar_train = X_train[:,[20,59]]+ np.random.rand(X_train.shape[0], 2) - jitter_delta\n",
    "X_twovar_test  = X_test[:,[20,59]] + np.random.rand(X_test.shape[0], 2) - jitter_delta\n",
    "\n",
    "clf = SVC(kernel = 'linear').fit(X_twovar_train, y_train)\n",
    "grid_values = {'class_weight':['balanced', {1:2},{1:3},{1:4},{1:5},{1:10},{1:20},{1:50}]}\n",
    "plt.figure(figsize=(9,6))\n",
    "for i, eval_metric in enumerate(('precision','recall', 'f1','roc_auc')):\n",
    "    grid_clf_custom = GridSearchCV(clf, param_grid=grid_values, scoring=eval_metric)\n",
    "    grid_clf_custom.fit(X_twovar_train, y_train)\n",
    "    print('Grid best parameter (max. {0}): {1}'\n",
    "          .format(eval_metric, grid_clf_custom.best_params_))\n",
    "    print('Grid best score ({0}): {1}'\n",
    "          .format(eval_metric, grid_clf_custom.best_score_))\n",
    "    plt.subplots_adjust(wspace=0.3, hspace=0.3)\n",
    "    plot_class_regions_for_classifier_subplot(grid_clf_custom, X_twovar_test, y_test, None,\n",
    "                                             None, None,  plt.subplot(2, 2, i+1))\n",
    "    \n",
    "    plt.title(eval_metric+'-oriented SVC')\n",
    "plt.tight_layout()\n",
    "plt.show()"
   ]
  },
  {
   "cell_type": "markdown",
   "metadata": {},
   "source": [
    "#### Precision-recall curve for the default SVC classifier (with balanced class weights)"
   ]
  },
  {
   "cell_type": "code",
   "execution_count": null,
   "metadata": {
    "collapsed": false,
    "scrolled": false
   },
   "outputs": [],
   "source": [
    "from sklearn.model_selection import train_test_split\n",
    "from sklearn.metrics import precision_recall_curve\n",
    "from adspy_shared_utilities import plot_class_regions_for_classifier\n",
    "from sklearn.svm import SVC\n",
    "\n",
    "dataset = load_digits()\n",
    "X, y = dataset.data, dataset.target == 1\n",
    "X_train, X_test, y_train, y_test = train_test_split(X, y, random_state=0)\n",
    "\n",
    "# create a two-feature input vector matching the example plot above\n",
    "jitter_delta = 0.25\n",
    "X_twovar_train = X_train[:,[20,59]]+ np.random.rand(X_train.shape[0], 2) - jitter_delta\n",
    "X_twovar_test  = X_test[:,[20,59]] + np.random.rand(X_test.shape[0], 2) - jitter_delta\n",
    "\n",
    "clf = SVC(kernel='linear', class_weight='balanced').fit(X_twovar_train, y_train)\n",
    "\n",
    "y_scores = clf.decision_function(X_twovar_test)\n",
    "\n",
    "precision, recall, thresholds = precision_recall_curve(y_test, y_scores)\n",
    "closest_zero = np.argmin(np.abs(thresholds))\n",
    "closest_zero_p = precision[closest_zero]\n",
    "closest_zero_r = recall[closest_zero]\n",
    "\n",
    "plot_class_regions_for_classifier(clf, X_twovar_test, y_test)\n",
    "plt.title(\"SVC, class_weight = 'balanced', optimized for accuracy\")\n",
    "plt.show()\n",
    "\n",
    "plt.figure()\n",
    "plt.xlim([0.0, 1.01])\n",
    "plt.ylim([0.0, 1.01])\n",
    "plt.title (\"Precision-recall curve: SVC, class_weight = 'balanced'\")\n",
    "plt.plot(precision, recall, label = 'Precision-Recall Curve')\n",
    "plt.plot(closest_zero_p, closest_zero_r, 'o', markersize=12, fillstyle='none', c='r', mew=3)\n",
    "plt.xlabel('Precision', fontsize=16)\n",
    "plt.ylabel('Recall', fontsize=16)\n",
    "plt.axes().set_aspect('equal')\n",
    "plt.show()\n",
    "print('At zero threshold, precision: {:.2f}, recall: {:.2f}'\n",
    "      .format(closest_zero_p, closest_zero_r))"
   ]
  },
  {
   "cell_type": "code",
   "execution_count": null,
   "metadata": {
    "collapsed": true
   },
   "outputs": [],
   "source": []
  }
 ],
 "metadata": {
  "anaconda-cloud": {},
  "kernelspec": {
   "display_name": "Python 3",
   "language": "python",
   "name": "python3"
  },
  "language_info": {
   "codemirror_mode": {
    "name": "ipython",
    "version": 3
   },
   "file_extension": ".py",
   "mimetype": "text/x-python",
   "name": "python",
   "nbconvert_exporter": "python",
   "pygments_lexer": "ipython3",
   "version": "3.6.2"
  }
 },
 "nbformat": 4,
 "nbformat_minor": 1
}
